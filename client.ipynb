{
 "cells": [
  {
   "cell_type": "code",
   "execution_count": null,
   "metadata": {},
   "outputs": [],
   "source": [
    "!pip install mysql-connector-python"
   ]
  },
  {
   "cell_type": "code",
   "execution_count": 18,
   "metadata": {},
   "outputs": [],
   "source": [
    "import mysql.connector as connector\n",
    "\n",
    "try:\n",
    "    # Connect to the database\n",
    "    connection = connector.connect(user=\"root\", \n",
    "                            password=\"localhost\",\n",
    "                            host=\"localhost\",\n",
    "                            db=\"littlelemondb\")\n",
    "    cursor = connection.cursor()\n",
    "\n",
    "except:\n",
    "    print(\"Connection failed\")"
   ]
  },
  {
   "cell_type": "code",
   "execution_count": 19,
   "metadata": {},
   "outputs": [
    {
     "name": "stdout",
     "output_type": "stream",
     "text": [
      "The following are the table names:\n",
      "('bookings',)\n",
      "('customers',)\n",
      "('deliverystatus',)\n",
      "('menu',)\n",
      "('menuitems',)\n",
      "('orders',)\n",
      "('staff',)\n"
     ]
    }
   ],
   "source": [
    "show_tables_query = \"SHOW TABLES FROM littlelemondb\" \n",
    "cursor.execute(show_tables_query)\n",
    "records = cursor.fetchall()\n",
    "\n",
    "print(\"The following are the table names:\")\n",
    "for row in records:\n",
    "    print(row)"
   ]
  },
  {
   "cell_type": "code",
   "execution_count": 20,
   "metadata": {},
   "outputs": [
    {
     "name": "stdout",
     "output_type": "stream",
     "text": [
      "('customerID', 'name', 'contactNumber')\n",
      "('Cl4', 'Leon', '11-22-33')\n",
      "('Cl1', 'Mike', '11-22-33')\n"
     ]
    }
   ],
   "source": [
    "# Task 3: Query with table Join\n",
    "\n",
    "join_query = \"\"\"\n",
    "SELECT c.customerID, c.name, c.contactNumber FROM customers AS c INNER JOIN orders ON c.customerID = orders.customerID\n",
    "WHERE orders.totalCost > 60\n",
    "GROUP BY customerID;\n",
    "\"\"\"\n",
    "\n",
    "#Execute the query and print the result\n",
    "cursor.execute(join_query)\n",
    "columns = cursor.column_names\n",
    "print(columns)\n",
    "result = cursor.fetchall()\n",
    "for row in result:\n",
    "    print(row)"
   ]
  },
  {
   "cell_type": "code",
   "execution_count": 21,
   "metadata": {},
   "outputs": [
    {
     "data": {
      "text/plain": [
       "True"
      ]
     },
     "execution_count": 21,
     "metadata": {},
     "output_type": "execute_result"
    }
   ],
   "source": [
    "cursor.close()"
   ]
  }
 ],
 "metadata": {
  "kernelspec": {
   "display_name": "ml-env",
   "language": "python",
   "name": "python3"
  },
  "language_info": {
   "codemirror_mode": {
    "name": "ipython",
    "version": 3
   },
   "file_extension": ".py",
   "mimetype": "text/x-python",
   "name": "python",
   "nbconvert_exporter": "python",
   "pygments_lexer": "ipython3",
   "version": "3.10.9"
  },
  "orig_nbformat": 4
 },
 "nbformat": 4,
 "nbformat_minor": 2
}
